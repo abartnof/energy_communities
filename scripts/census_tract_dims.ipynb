{
 "cells": [
  {
   "cell_type": "markdown",
   "id": "a6e8e138-21a4-469e-8854-5ee942d16264",
   "metadata": {},
   "source": [
    "Map CBSA to census tracts. Note that CBSA contains MSA data."
   ]
  },
  {
   "cell_type": "code",
   "execution_count": 2,
   "id": "faaae611-7546-4e8a-8b25-a2b841f6ef63",
   "metadata": {},
   "outputs": [],
   "source": [
    "import pandas as pd\n",
    "import geopandas as gpd\n",
    "import numpy as np\n",
    "import matplotlib.pyplot as plt\n",
    "import os\n",
    "from tqdm.notebook import tqdm\n",
    "target_epsg = 4269  # What the CBSA files use natively"
   ]
  },
  {
   "cell_type": "code",
   "execution_count": 3,
   "id": "11853027-3d29-42bd-a295-db91742967b4",
   "metadata": {},
   "outputs": [
    {
     "name": "stdout",
     "output_type": "stream",
     "text": [
      "['/Volumes/Extreme SSD/energy_communities/raw_input/census_tract/2023/tl_2023_04_tract', '/Volumes/Extreme SSD/energy_communities/raw_input/census_tract/2023/tl_2023_02_tract', '/Volumes/Extreme SSD/energy_communities/raw_input/census_tract/2023/tl_2023_01_tract']\n"
     ]
    }
   ],
   "source": [
    "census_dirs = '/Volumes/Extreme SSD/energy_communities/raw_input/census_tract/2023'\n",
    "list_of_census_files = [ f.path for f in os.scandir(census_dirs) if f.is_dir() ]\n",
    "print(list_of_census_files[:3])"
   ]
  },
  {
   "cell_type": "code",
   "execution_count": 9,
   "id": "2a2a3eef-37e9-4319-9ff4-e336de627f02",
   "metadata": {},
   "outputs": [
    {
     "data": {
      "application/vnd.jupyter.widget-view+json": {
       "model_id": "befc6cf6ee1d44fcb2bb3c4413ca60bf",
       "version_major": 2,
       "version_minor": 0
      },
      "text/plain": [
       "  0%|          | 0/56 [00:00<?, ?it/s]"
      ]
     },
     "metadata": {},
     "output_type": "display_data"
    }
   ],
   "source": [
    "table_list = []\n",
    "# census_subfolder = list_of_census_files[0]\n",
    "for census_subfolder in tqdm(list_of_census_files):\n",
    "    CensusObservationRaw = gpd.read_file(census_subfolder)\n",
    "    table_list.append( CensusObservationRaw[['STATEFP', 'COUNTYFP', 'GEOID', 'GEOIDFQ']] )"
   ]
  },
  {
   "cell_type": "code",
   "execution_count": 15,
   "id": "fdecbc3d-ac0a-4174-841f-d9b48c87346f",
   "metadata": {},
   "outputs": [
    {
     "data": {
      "text/html": [
       "<div>\n",
       "<style scoped>\n",
       "    .dataframe tbody tr th:only-of-type {\n",
       "        vertical-align: middle;\n",
       "    }\n",
       "\n",
       "    .dataframe tbody tr th {\n",
       "        vertical-align: top;\n",
       "    }\n",
       "\n",
       "    .dataframe thead th {\n",
       "        text-align: right;\n",
       "    }\n",
       "</style>\n",
       "<table border=\"1\" class=\"dataframe\">\n",
       "  <thead>\n",
       "    <tr style=\"text-align: right;\">\n",
       "      <th></th>\n",
       "      <th>state_fips</th>\n",
       "      <th>county_fips</th>\n",
       "      <th>census_geoid</th>\n",
       "      <th>census_geoidfq</th>\n",
       "    </tr>\n",
       "  </thead>\n",
       "  <tbody>\n",
       "    <tr>\n",
       "      <th>3084</th>\n",
       "      <td>01</td>\n",
       "      <td>001</td>\n",
       "      <td>01001020100</td>\n",
       "      <td>1400000US01001020100</td>\n",
       "    </tr>\n",
       "    <tr>\n",
       "      <th>3082</th>\n",
       "      <td>01</td>\n",
       "      <td>001</td>\n",
       "      <td>01001020200</td>\n",
       "      <td>1400000US01001020200</td>\n",
       "    </tr>\n",
       "    <tr>\n",
       "      <th>3359</th>\n",
       "      <td>01</td>\n",
       "      <td>001</td>\n",
       "      <td>01001020300</td>\n",
       "      <td>1400000US01001020300</td>\n",
       "    </tr>\n",
       "    <tr>\n",
       "      <th>3085</th>\n",
       "      <td>01</td>\n",
       "      <td>001</td>\n",
       "      <td>01001020400</td>\n",
       "      <td>1400000US01001020400</td>\n",
       "    </tr>\n",
       "    <tr>\n",
       "      <th>2355</th>\n",
       "      <td>01</td>\n",
       "      <td>001</td>\n",
       "      <td>01001020501</td>\n",
       "      <td>1400000US01001020501</td>\n",
       "    </tr>\n",
       "  </tbody>\n",
       "</table>\n",
       "</div>"
      ],
      "text/plain": [
       "     state_fips county_fips census_geoid        census_geoidfq\n",
       "3084         01         001  01001020100  1400000US01001020100\n",
       "3082         01         001  01001020200  1400000US01001020200\n",
       "3359         01         001  01001020300  1400000US01001020300\n",
       "3085         01         001  01001020400  1400000US01001020400\n",
       "2355         01         001  01001020501  1400000US01001020501"
      ]
     },
     "execution_count": 15,
     "metadata": {},
     "output_type": "execute_result"
    }
   ],
   "source": [
    "Concat = pd.concat(table_list, axis=0, ignore_index=True)\n",
    "Concat = Concat.rename(\n",
    "    columns={'STATEFP':'state_fips', 'COUNTYFP':'county_fips', 'GEOID':'census_geoid', 'GEOIDFQ':'census_geoidfq'}\n",
    ")\n",
    "Concat = Concat.sort_values(['census_geoid'])\n",
    "Concat.head()"
   ]
  }
 ],
 "metadata": {
  "kernelspec": {
   "display_name": "Python 3 (ipykernel)",
   "language": "python",
   "name": "python3"
  },
  "language_info": {
   "codemirror_mode": {
    "name": "ipython",
    "version": 3
   },
   "file_extension": ".py",
   "mimetype": "text/x-python",
   "name": "python",
   "nbconvert_exporter": "python",
   "pygments_lexer": "ipython3",
   "version": "3.12.2"
  }
 },
 "nbformat": 4,
 "nbformat_minor": 5
}
