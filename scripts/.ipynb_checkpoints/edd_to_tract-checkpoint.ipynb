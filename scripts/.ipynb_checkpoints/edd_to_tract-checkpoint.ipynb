{
 "cells": [
  {
   "cell_type": "code",
   "execution_count": 36,
   "id": "78d32944-00f2-4153-bf5d-6892043a7f72",
   "metadata": {},
   "outputs": [],
   "source": [
    "import geopandas as gpd\n",
    "import pandas as pd\n",
    "import numpy as np\n",
    "import matplotlib.pyplot as plt\n",
    "import os\n",
    "from tqdm.notebook import tqdm\n",
    "fn_out = '/Volumes/Extreme SSD/energy_communities/clean_input/geography/edd_to_census_tract.parquet'\n",
    "target_epsg = 3857"
   ]
  },
  {
   "cell_type": "code",
   "execution_count": 7,
   "id": "f2be0e53-0643-4aca-b8d5-2eadc921d2a7",
   "metadata": {},
   "outputs": [
    {
     "data": {
      "text/html": [
       "<div>\n",
       "<style scoped>\n",
       "    .dataframe tbody tr th:only-of-type {\n",
       "        vertical-align: middle;\n",
       "    }\n",
       "\n",
       "    .dataframe tbody tr th {\n",
       "        vertical-align: top;\n",
       "    }\n",
       "\n",
       "    .dataframe thead th {\n",
       "        text-align: right;\n",
       "    }\n",
       "</style>\n",
       "<table border=\"1\" class=\"dataframe\">\n",
       "  <thead>\n",
       "    <tr style=\"text-align: right;\">\n",
       "      <th></th>\n",
       "      <th>edd_full_name</th>\n",
       "      <th>edd_geometry</th>\n",
       "    </tr>\n",
       "  </thead>\n",
       "  <tbody>\n",
       "    <tr>\n",
       "      <th>0</th>\n",
       "      <td>3Core Economic Development Corporation (CA)/Tr...</td>\n",
       "      <td>POLYGON ((-13539095.212 4764106.072, -13539103...</td>\n",
       "    </tr>\n",
       "    <tr>\n",
       "      <th>1</th>\n",
       "      <td>Acadiana Planning Commission</td>\n",
       "      <td>POLYGON ((-10225791.130 3421410.172, -10226779...</td>\n",
       "    </tr>\n",
       "    <tr>\n",
       "      <th>2</th>\n",
       "      <td>Accomack-Northampton Planning District Commission</td>\n",
       "      <td>POLYGON ((-8475766.200 4504656.331, -8475838.5...</td>\n",
       "    </tr>\n",
       "    <tr>\n",
       "      <th>3</th>\n",
       "      <td>Alabama-Tombigbee Regional Commission</td>\n",
       "      <td>POLYGON ((-9846562.853 3698558.404, -9846576.2...</td>\n",
       "    </tr>\n",
       "    <tr>\n",
       "      <th>4</th>\n",
       "      <td>Alamo Area Council of Governments</td>\n",
       "      <td>POLYGON ((-10998736.257 3256240.291, -10998735...</td>\n",
       "    </tr>\n",
       "  </tbody>\n",
       "</table>\n",
       "</div>"
      ],
      "text/plain": [
       "                                       edd_full_name  \\\n",
       "0  3Core Economic Development Corporation (CA)/Tr...   \n",
       "1                       Acadiana Planning Commission   \n",
       "2  Accomack-Northampton Planning District Commission   \n",
       "3              Alabama-Tombigbee Regional Commission   \n",
       "4                  Alamo Area Council of Governments   \n",
       "\n",
       "                                        edd_geometry  \n",
       "0  POLYGON ((-13539095.212 4764106.072, -13539103...  \n",
       "1  POLYGON ((-10225791.130 3421410.172, -10226779...  \n",
       "2  POLYGON ((-8475766.200 4504656.331, -8475838.5...  \n",
       "3  POLYGON ((-9846562.853 3698558.404, -9846576.2...  \n",
       "4  POLYGON ((-10998736.257 3256240.291, -10998735...  "
      ]
     },
     "execution_count": 7,
     "metadata": {},
     "output_type": "execute_result"
    }
   ],
   "source": [
    "EddRaw = gpd.read_file('/Volumes/Extreme SSD/energy_communities/raw_input/EDD Layer - October 2024', encoding='utf-8')\n",
    "EddRaw.set_geometry('geometry', inplace=True)\n",
    "EddRaw.to_crs(epsg=target_epsg, inplace=True)\n",
    "# Edd = EddRaw.to_crs(epsg=4269, inplace=False)\n",
    "Edd = EddRaw[['FullName', 'geometry']]\n",
    "Edd = Edd.rename(columns={'FullName':'edd_full_name', 'geometry':'edd_geometry'})\n",
    "Edd = Edd.set_geometry('edd_geometry')\n",
    "Edd.head()"
   ]
  },
  {
   "cell_type": "code",
   "execution_count": 9,
   "id": "8c285e11-c364-4d36-b98f-8fb0a0f231a6",
   "metadata": {},
   "outputs": [
    {
     "data": {
      "text/plain": [
       "True"
      ]
     },
     "execution_count": 9,
     "metadata": {},
     "output_type": "execute_result"
    }
   ],
   "source": [
    "# Make sure there is one row for each EDD\n",
    "Edd[['edd_full_name']].duplicated().sum() == 0"
   ]
  },
  {
   "cell_type": "code",
   "execution_count": 10,
   "id": "541ec3a5-6d94-4a62-aafd-c42c8a757d9a",
   "metadata": {},
   "outputs": [],
   "source": [
    "census_dirs = '/Volumes/Extreme SSD/energy_communities/raw_input/census_tract/2023'"
   ]
  },
  {
   "cell_type": "code",
   "execution_count": 16,
   "id": "2f206073-55d4-40bd-aaaf-1c85d198db46",
   "metadata": {},
   "outputs": [
    {
     "name": "stdout",
     "output_type": "stream",
     "text": [
      "['/Volumes/Extreme SSD/energy_communities/raw_input/census_tract/2023/tl_2023_04_tract', '/Volumes/Extreme SSD/energy_communities/raw_input/census_tract/2023/tl_2023_02_tract', '/Volumes/Extreme SSD/energy_communities/raw_input/census_tract/2023/tl_2023_01_tract']\n"
     ]
    }
   ],
   "source": [
    "list_of_census_files = [ f.path for f in os.scandir(census_dirs) if f.is_dir() ]\n",
    "print(list_of_census_files[:3])"
   ]
  },
  {
   "cell_type": "code",
   "execution_count": 35,
   "id": "0eac05d8-4e22-4155-8106-c5a105a7196c",
   "metadata": {},
   "outputs": [],
   "source": [
    "results_dict = {}\n",
    "for e in Edd.index:\n",
    "    results_dict[e] = list()"
   ]
  },
  {
   "cell_type": "code",
   "execution_count": 38,
   "id": "b6632f39-3b50-4c8a-abe5-f8f8b176de4e",
   "metadata": {},
   "outputs": [
    {
     "data": {
      "application/vnd.jupyter.widget-view+json": {
       "model_id": "14bce745a5fd450d80e8cab64928e48c",
       "version_major": 2,
       "version_minor": 0
      },
      "text/plain": [
       "  0%|          | 0/56 [00:00<?, ?it/s]"
      ]
     },
     "metadata": {},
     "output_type": "display_data"
    }
   ],
   "source": [
    "results_dict = {}\n",
    "for e in Edd.index:\n",
    "    results_dict[e] = list()\n",
    "    \n",
    "for census_subfolder in tqdm(list_of_census_files):\n",
    "    CensusObservation = gpd.read_file(census_subfolder)\n",
    "    CensusObservation = CensusObservation.rename(columns={'GEOID':'census_geoid', 'GEOIDFQ':'census_geoidfq', 'geometry':'census_geometry'})\n",
    "    CensusObservation = CensusObservation[['census_geoid', 'census_geoidfq', 'census_geometry']]\n",
    "    CensusObservation = CensusObservation.set_geometry('census_geometry')\n",
    "    CensusObservation = CensusObservation.to_crs(epsg=target_epsg)\n",
    "\n",
    "    for e in Edd.index:\n",
    "        EddDatum = Edd.loc[[e]]\n",
    "        Intersection = gpd.sjoin(EddDatum, CensusObservation, how='inner', predicate='intersects')\n",
    "        if Intersection.shape[0] == 0:\n",
    "            pass\n",
    "        else:\n",
    "            results_dict[e].append(Intersection)"
   ]
  },
  {
   "cell_type": "code",
   "execution_count": 61,
   "id": "6c2825d5-a7a6-4d9d-bf31-e245a3c6f34f",
   "metadata": {},
   "outputs": [],
   "source": [
    "Results = pd.DataFrame()\n",
    "for k in results_dict.keys():\n",
    "    Concat = pd.concat(results_dict[k], axis=0, ignore_index=False)\n",
    "    Concat = Concat[['edd_full_name', 'census_geoid', 'census_geoidfq']]\n",
    "    Concat.drop_duplicates(inplace=True)\n",
    "    Concat['edd_index'] = k\n",
    "    Results = pd.concat([Results, Concat], axis=0, ignore_index=True)\n",
    "Results = Results[['edd_index', 'edd_full_name', 'census_geoid', 'census_geoidfq']]"
   ]
  },
  {
   "cell_type": "code",
   "execution_count": 62,
   "id": "9c67a9fa-6774-4094-97ea-ed7c7fcfcf32",
   "metadata": {},
   "outputs": [],
   "source": [
    "Results.to_parquet(fn_out)"
   ]
  }
 ],
 "metadata": {
  "kernelspec": {
   "display_name": "Python 3 (ipykernel)",
   "language": "python",
   "name": "python3"
  },
  "language_info": {
   "codemirror_mode": {
    "name": "ipython",
    "version": 3
   },
   "file_extension": ".py",
   "mimetype": "text/x-python",
   "name": "python",
   "nbconvert_exporter": "python",
   "pygments_lexer": "ipython3",
   "version": "3.12.2"
  }
 },
 "nbformat": 4,
 "nbformat_minor": 5
}
