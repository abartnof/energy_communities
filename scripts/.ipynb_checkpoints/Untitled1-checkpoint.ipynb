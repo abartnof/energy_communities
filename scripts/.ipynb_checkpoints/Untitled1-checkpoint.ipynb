{
 "cells": [
  {
   "cell_type": "code",
   "execution_count": 1,
   "id": "06834cbb-0c42-4881-8b52-9a0d426cd5f0",
   "metadata": {},
   "outputs": [],
   "source": [
    "import geopandas as gpd\n",
    "import pandas as pd\n",
    "import numpy as np\n",
    "import matplotlib.pyplot as plt\n",
    "# import os\n",
    "# from tqdm.notebook import tqdm"
   ]
  },
  {
   "cell_type": "markdown",
   "id": "897ad83f-4872-463a-8824-741fd613ba5f",
   "metadata": {},
   "source": [
    "# Import EDD and EDD to Census tables"
   ]
  },
  {
   "cell_type": "code",
   "execution_count": 2,
   "id": "9ebdf38c-0bd5-4521-91c4-ad61af7a0703",
   "metadata": {},
   "outputs": [
    {
     "data": {
      "text/html": [
       "<div>\n",
       "<style scoped>\n",
       "    .dataframe tbody tr th:only-of-type {\n",
       "        vertical-align: middle;\n",
       "    }\n",
       "\n",
       "    .dataframe tbody tr th {\n",
       "        vertical-align: top;\n",
       "    }\n",
       "\n",
       "    .dataframe thead th {\n",
       "        text-align: right;\n",
       "    }\n",
       "</style>\n",
       "<table border=\"1\" class=\"dataframe\">\n",
       "  <thead>\n",
       "    <tr style=\"text-align: right;\">\n",
       "      <th></th>\n",
       "      <th>edd_full_name</th>\n",
       "      <th>edd_state_name</th>\n",
       "      <th>edd_county_name</th>\n",
       "      <th>geometry</th>\n",
       "    </tr>\n",
       "  </thead>\n",
       "  <tbody>\n",
       "    <tr>\n",
       "      <th>0</th>\n",
       "      <td>3Core Economic Development Corporation (CA)/Tr...</td>\n",
       "      <td>CA</td>\n",
       "      <td>Butte</td>\n",
       "      <td>POLYGON ((-121.62376 39.29562, -121.62384 39.2...</td>\n",
       "    </tr>\n",
       "    <tr>\n",
       "      <th>1</th>\n",
       "      <td>Acadiana Planning Commission</td>\n",
       "      <td>LA</td>\n",
       "      <td>Lafayette</td>\n",
       "      <td>POLYGON ((-91.85984 29.35894, -91.86872 29.360...</td>\n",
       "    </tr>\n",
       "    <tr>\n",
       "      <th>2</th>\n",
       "      <td>Accomack-Northampton Planning District Commission</td>\n",
       "      <td>VA</td>\n",
       "      <td>Accomack</td>\n",
       "      <td>POLYGON ((-76.13910 37.46881, -76.13975 37.500...</td>\n",
       "    </tr>\n",
       "    <tr>\n",
       "      <th>3</th>\n",
       "      <td>Alabama-Tombigbee Regional Commission</td>\n",
       "      <td>AL</td>\n",
       "      <td>Wilcox</td>\n",
       "      <td>POLYGON ((-88.45318 31.50539, -88.45330 31.509...</td>\n",
       "    </tr>\n",
       "    <tr>\n",
       "      <th>4</th>\n",
       "      <td>Alamo Area Council of Governments</td>\n",
       "      <td>TX</td>\n",
       "      <td>Bexar</td>\n",
       "      <td>POLYGON ((-98.80332 28.05762, -98.80331 28.058...</td>\n",
       "    </tr>\n",
       "  </tbody>\n",
       "</table>\n",
       "</div>"
      ],
      "text/plain": [
       "                                       edd_full_name edd_state_name  \\\n",
       "0  3Core Economic Development Corporation (CA)/Tr...             CA   \n",
       "1                       Acadiana Planning Commission             LA   \n",
       "2  Accomack-Northampton Planning District Commission             VA   \n",
       "3              Alabama-Tombigbee Regional Commission             AL   \n",
       "4                  Alamo Area Council of Governments             TX   \n",
       "\n",
       "  edd_county_name                                           geometry  \n",
       "0           Butte  POLYGON ((-121.62376 39.29562, -121.62384 39.2...  \n",
       "1       Lafayette  POLYGON ((-91.85984 29.35894, -91.86872 29.360...  \n",
       "2        Accomack  POLYGON ((-76.13910 37.46881, -76.13975 37.500...  \n",
       "3          Wilcox  POLYGON ((-88.45318 31.50539, -88.45330 31.509...  \n",
       "4           Bexar  POLYGON ((-98.80332 28.05762, -98.80331 28.058...  "
      ]
     },
     "execution_count": 2,
     "metadata": {},
     "output_type": "execute_result"
    }
   ],
   "source": [
    "fn_edd = '/Volumes/Extreme SSD/energy_communities/raw_input/EDD Layer - October 2024'\n",
    "Edd = gpd.read_file(fn_edd)\n",
    "Edd.to_crs(epsg=4269, inplace=True)\n",
    "Edd.set_geometry('geometry')\n",
    "Edd = Edd[['FullName', 'State', 'County', 'geometry']]\n",
    "Edd = Edd.rename(columns={'FullName':'edd_full_name', 'State':'edd_state_name', 'County':'edd_county_name'})\n",
    "Edd.head()"
   ]
  },
  {
   "cell_type": "code",
   "execution_count": 6,
   "id": "2331c070-e891-4419-9cd9-55ddd21f1438",
   "metadata": {},
   "outputs": [
    {
     "data": {
      "text/html": [
       "<div>\n",
       "<style scoped>\n",
       "    .dataframe tbody tr th:only-of-type {\n",
       "        vertical-align: middle;\n",
       "    }\n",
       "\n",
       "    .dataframe tbody tr th {\n",
       "        vertical-align: top;\n",
       "    }\n",
       "\n",
       "    .dataframe thead th {\n",
       "        text-align: right;\n",
       "    }\n",
       "</style>\n",
       "<table border=\"1\" class=\"dataframe\">\n",
       "  <thead>\n",
       "    <tr style=\"text-align: right;\">\n",
       "      <th></th>\n",
       "      <th>edd_full_name</th>\n",
       "      <th>census_dir</th>\n",
       "      <th>state_fips</th>\n",
       "      <th>county_fips</th>\n",
       "      <th>census_tract</th>\n",
       "      <th>census_geoid</th>\n",
       "      <th>census_geoidfq</th>\n",
       "    </tr>\n",
       "  </thead>\n",
       "  <tbody>\n",
       "    <tr>\n",
       "      <th>0</th>\n",
       "      <td>3Core Economic Development Corporation (CA)/Tr...</td>\n",
       "      <td>/Volumes/Extreme SSD/energy_communities/raw_in...</td>\n",
       "      <td>06</td>\n",
       "      <td>021</td>\n",
       "      <td>010402</td>\n",
       "      <td>06021010402</td>\n",
       "      <td>1400000US06021010402</td>\n",
       "    </tr>\n",
       "    <tr>\n",
       "      <th>1</th>\n",
       "      <td>3Core Economic Development Corporation (CA)/Tr...</td>\n",
       "      <td>/Volumes/Extreme SSD/energy_communities/raw_in...</td>\n",
       "      <td>06</td>\n",
       "      <td>011</td>\n",
       "      <td>000500</td>\n",
       "      <td>06011000500</td>\n",
       "      <td>1400000US06011000500</td>\n",
       "    </tr>\n",
       "    <tr>\n",
       "      <th>2</th>\n",
       "      <td>3Core Economic Development Corporation (CA)/Tr...</td>\n",
       "      <td>/Volumes/Extreme SSD/energy_communities/raw_in...</td>\n",
       "      <td>06</td>\n",
       "      <td>007</td>\n",
       "      <td>000501</td>\n",
       "      <td>06007000501</td>\n",
       "      <td>1400000US06007000501</td>\n",
       "    </tr>\n",
       "    <tr>\n",
       "      <th>3</th>\n",
       "      <td>3Core Economic Development Corporation (CA)/Tr...</td>\n",
       "      <td>/Volumes/Extreme SSD/energy_communities/raw_in...</td>\n",
       "      <td>06</td>\n",
       "      <td>101</td>\n",
       "      <td>050800</td>\n",
       "      <td>06101050800</td>\n",
       "      <td>1400000US06101050800</td>\n",
       "    </tr>\n",
       "    <tr>\n",
       "      <th>4</th>\n",
       "      <td>3Core Economic Development Corporation (CA)/Tr...</td>\n",
       "      <td>/Volumes/Extreme SSD/energy_communities/raw_in...</td>\n",
       "      <td>06</td>\n",
       "      <td>007</td>\n",
       "      <td>003502</td>\n",
       "      <td>06007003502</td>\n",
       "      <td>1400000US06007003502</td>\n",
       "    </tr>\n",
       "  </tbody>\n",
       "</table>\n",
       "</div>"
      ],
      "text/plain": [
       "                                       edd_full_name  \\\n",
       "0  3Core Economic Development Corporation (CA)/Tr...   \n",
       "1  3Core Economic Development Corporation (CA)/Tr...   \n",
       "2  3Core Economic Development Corporation (CA)/Tr...   \n",
       "3  3Core Economic Development Corporation (CA)/Tr...   \n",
       "4  3Core Economic Development Corporation (CA)/Tr...   \n",
       "\n",
       "                                          census_dir state_fips county_fips  \\\n",
       "0  /Volumes/Extreme SSD/energy_communities/raw_in...         06         021   \n",
       "1  /Volumes/Extreme SSD/energy_communities/raw_in...         06         011   \n",
       "2  /Volumes/Extreme SSD/energy_communities/raw_in...         06         007   \n",
       "3  /Volumes/Extreme SSD/energy_communities/raw_in...         06         101   \n",
       "4  /Volumes/Extreme SSD/energy_communities/raw_in...         06         007   \n",
       "\n",
       "  census_tract census_geoid        census_geoidfq  \n",
       "0       010402  06021010402  1400000US06021010402  \n",
       "1       000500  06011000500  1400000US06011000500  \n",
       "2       000501  06007000501  1400000US06007000501  \n",
       "3       050800  06101050800  1400000US06101050800  \n",
       "4       003502  06007003502  1400000US06007003502  "
      ]
     },
     "execution_count": 6,
     "metadata": {},
     "output_type": "execute_result"
    }
   ],
   "source": [
    "fn_edd_to_census = '/Volumes/Extreme SSD/energy_communities/clean_input/geography/edd_to_census_tract.parquet'\n",
    "EddToCensus = pd.read_parquet(fn_edd_to_census)\n",
    "EddToCensus.head()"
   ]
  },
  {
   "cell_type": "code",
   "execution_count": 8,
   "id": "3f2cb49b-b0d5-4b04-b6bc-92da67e5e44b",
   "metadata": {},
   "outputs": [
    {
     "data": {
      "text/plain": [
       "(66501, 7)"
      ]
     },
     "execution_count": 8,
     "metadata": {},
     "output_type": "execute_result"
    }
   ],
   "source": [
    "EddToCensus.shape"
   ]
  },
  {
   "cell_type": "code",
   "execution_count": 4,
   "id": "365fc6c5-228d-40e9-8f30-3eb78ab7dfde",
   "metadata": {},
   "outputs": [
    {
     "data": {
      "text/plain": [
       "census_geoid    06021010402\n",
       "Name: 0, dtype: object"
      ]
     },
     "execution_count": 4,
     "metadata": {},
     "output_type": "execute_result"
    }
   ],
   "source": [
    "EddToCensus.loc[0, ['census_geoid']]"
   ]
  },
  {
   "cell_type": "code",
   "execution_count": 5,
   "id": "6c0e6232-f9f8-4533-b540-2f43fcd8e0fd",
   "metadata": {},
   "outputs": [
    {
     "data": {
      "text/plain": [
       "count\n",
       "1    0.848363\n",
       "2    0.122900\n",
       "3    0.026014\n",
       "4    0.002527\n",
       "5    0.000196\n",
       "Name: proportion, dtype: float64"
      ]
     },
     "execution_count": 5,
     "metadata": {},
     "output_type": "execute_result"
    }
   ],
   "source": [
    "# 84% of census tracts only occur once\n",
    "EddToCensus['census_geoid'].value_counts().to_frame()['count'].value_counts(normalize=True)"
   ]
  },
  {
   "cell_type": "code",
   "execution_count": 18,
   "id": "fe773eb3-87cb-48ef-8d45-273ea340f5ea",
   "metadata": {},
   "outputs": [
    {
     "name": "stdout",
     "output_type": "stream",
     "text": [
      "3Core Economic Development Corporation (CA)/Tri-County EDD\n"
     ]
    }
   ],
   "source": [
    "# i = np.random.choice(Edd.index)\n",
    "i = 0\n",
    "Edd.loc[[i]]\n",
    "edd_full_name = Edd.loc[i, 'edd_full_name']\n",
    "print(edd_full_name)"
   ]
  },
  {
   "cell_type": "code",
   "execution_count": 19,
   "id": "33e2ec78-5e02-4c4a-ace6-e056afb07360",
   "metadata": {},
   "outputs": [],
   "source": [
    "SubsetOfMatchingTable = EddToCensus.loc[EddToCensus['edd_full_name'] == edd_full_name]\n",
    "target_census_dir_list = SubsetOfMatchingTable.census_dir.unique().tolist()"
   ]
  },
  {
   "cell_type": "code",
   "execution_count": 21,
   "id": "beab23c5-107a-4428-ac56-dfbd789df3db",
   "metadata": {},
   "outputs": [],
   "source": [
    "j = 0\n",
    "# target_census_dir_list[j]\n",
    "target_census_dir = target_census_dir_list[j]\n",
    "TargetCensusSubsetter = SubsetOfMatchingTable.loc[SubsetOfMatchingTable['census_dir'] == target_census_dir, ['census_geoidfq']]\n",
    "TargetCensusSubsetter.rename(columns={'census_geoidfq':'GEOIDFQ'}, inplace=True)"
   ]
  },
  {
   "cell_type": "code",
   "execution_count": 24,
   "id": "5d68d8dc-eb83-4e6a-b975-6545f5212ddf",
   "metadata": {},
   "outputs": [],
   "source": [
    "my_dir = target_census_dir\n",
    "CensusTable = gpd.read_file(my_dir)\n",
    "CensusTable = CensusTable.to_crs(epsg=4269)#.join(other=TargetCensusSubsetter, on='GEOIDFQ', how='inner')\n",
    "CensusTable = CensusTable.set_geometry('geometry')\n",
    "CensusTable = CensusTable[['GEOIDFQ', 'geometry']]\n",
    "CensusTable['GEOIDFQ'] = CensusTable['GEOIDFQ'].to_string()"
   ]
  },
  {
   "cell_type": "code",
   "execution_count": 29,
   "id": "b48a6588-28be-4d49-8ab6-8ba39ca99c21",
   "metadata": {},
   "outputs": [
    {
     "data": {
      "text/plain": [
       "0    1400000US06021010402\n",
       "0    1400000US06011000500\n",
       "0    1400000US06007000501\n",
       "0    1400000US06101050800\n",
       "0    1400000US06007003502\n",
       "             ...         \n",
       "0    1400000US06063000202\n",
       "0    1400000US06063000400\n",
       "0    1400000US06115041101\n",
       "0    1400000US06007002402\n",
       "0    1400000US06063000502\n",
       "Name: GEOIDFQ, Length: 95, dtype: object"
      ]
     },
     "execution_count": 29,
     "metadata": {},
     "output_type": "execute_result"
    }
   ],
   "source": [
    "TargetCensusSubsetter.GEOIDFQ"
   ]
  },
  {
   "cell_type": "code",
   "execution_count": 44,
   "id": "676b3e4c-f788-410d-b99b-4b42eaea4fbe",
   "metadata": {},
   "outputs": [
    {
     "data": {
      "text/html": [
       "<div>\n",
       "<style scoped>\n",
       "    .dataframe tbody tr th:only-of-type {\n",
       "        vertical-align: middle;\n",
       "    }\n",
       "\n",
       "    .dataframe tbody tr th {\n",
       "        vertical-align: top;\n",
       "    }\n",
       "\n",
       "    .dataframe thead th {\n",
       "        text-align: right;\n",
       "    }\n",
       "</style>\n",
       "<table border=\"1\" class=\"dataframe\">\n",
       "  <thead>\n",
       "    <tr style=\"text-align: right;\">\n",
       "      <th></th>\n",
       "      <th>GEOIDFQ</th>\n",
       "      <th>geometry</th>\n",
       "    </tr>\n",
       "  </thead>\n",
       "  <tbody>\n",
       "    <tr>\n",
       "      <th>0</th>\n",
       "      <td>0       1400000US06001442700\\n1       1400000U...</td>\n",
       "      <td>POLYGON ((-122.01721 37.53932, -122.01719 37.5...</td>\n",
       "    </tr>\n",
       "    <tr>\n",
       "      <th>1</th>\n",
       "      <td>0       1400000US06001442700\\n1       1400000U...</td>\n",
       "      <td>POLYGON ((-122.00230 37.52984, -122.00224 37.5...</td>\n",
       "    </tr>\n",
       "    <tr>\n",
       "      <th>2</th>\n",
       "      <td>0       1400000US06001442700\\n1       1400000U...</td>\n",
       "      <td>POLYGON ((-118.20284 34.01966, -118.20283 34.0...</td>\n",
       "    </tr>\n",
       "    <tr>\n",
       "      <th>3</th>\n",
       "      <td>0       1400000US06001442700\\n1       1400000U...</td>\n",
       "      <td>POLYGON ((-118.21963 34.02629, -118.21945 34.0...</td>\n",
       "    </tr>\n",
       "    <tr>\n",
       "      <th>4</th>\n",
       "      <td>0       1400000US06001442700\\n1       1400000U...</td>\n",
       "      <td>POLYGON ((-118.43882 34.29911, -118.43732 34.3...</td>\n",
       "    </tr>\n",
       "    <tr>\n",
       "      <th>...</th>\n",
       "      <td>...</td>\n",
       "      <td>...</td>\n",
       "    </tr>\n",
       "    <tr>\n",
       "      <th>9124</th>\n",
       "      <td>0       1400000US06001442700\\n1       1400000U...</td>\n",
       "      <td>POLYGON ((-117.95917 33.92458, -117.95888 33.9...</td>\n",
       "    </tr>\n",
       "    <tr>\n",
       "      <th>9125</th>\n",
       "      <td>0       1400000US06001442700\\n1       1400000U...</td>\n",
       "      <td>POLYGON ((-117.95918 33.92820, -117.95831 33.9...</td>\n",
       "    </tr>\n",
       "    <tr>\n",
       "      <th>9126</th>\n",
       "      <td>0       1400000US06001442700\\n1       1400000U...</td>\n",
       "      <td>POLYGON ((-117.95056 33.94503, -117.95055 33.9...</td>\n",
       "    </tr>\n",
       "    <tr>\n",
       "      <th>9127</th>\n",
       "      <td>0       1400000US06001442700\\n1       1400000U...</td>\n",
       "      <td>POLYGON ((-122.34551 37.96355, -122.34550 37.9...</td>\n",
       "    </tr>\n",
       "    <tr>\n",
       "      <th>9128</th>\n",
       "      <td>0       1400000US06001442700\\n1       1400000U...</td>\n",
       "      <td>POLYGON ((-118.12345 33.78715, -118.12224 33.7...</td>\n",
       "    </tr>\n",
       "  </tbody>\n",
       "</table>\n",
       "<p>9129 rows × 2 columns</p>\n",
       "</div>"
      ],
      "text/plain": [
       "                                                GEOIDFQ  \\\n",
       "0     0       1400000US06001442700\\n1       1400000U...   \n",
       "1     0       1400000US06001442700\\n1       1400000U...   \n",
       "2     0       1400000US06001442700\\n1       1400000U...   \n",
       "3     0       1400000US06001442700\\n1       1400000U...   \n",
       "4     0       1400000US06001442700\\n1       1400000U...   \n",
       "...                                                 ...   \n",
       "9124  0       1400000US06001442700\\n1       1400000U...   \n",
       "9125  0       1400000US06001442700\\n1       1400000U...   \n",
       "9126  0       1400000US06001442700\\n1       1400000U...   \n",
       "9127  0       1400000US06001442700\\n1       1400000U...   \n",
       "9128  0       1400000US06001442700\\n1       1400000U...   \n",
       "\n",
       "                                               geometry  \n",
       "0     POLYGON ((-122.01721 37.53932, -122.01719 37.5...  \n",
       "1     POLYGON ((-122.00230 37.52984, -122.00224 37.5...  \n",
       "2     POLYGON ((-118.20284 34.01966, -118.20283 34.0...  \n",
       "3     POLYGON ((-118.21963 34.02629, -118.21945 34.0...  \n",
       "4     POLYGON ((-118.43882 34.29911, -118.43732 34.3...  \n",
       "...                                                 ...  \n",
       "9124  POLYGON ((-117.95917 33.92458, -117.95888 33.9...  \n",
       "9125  POLYGON ((-117.95918 33.92820, -117.95831 33.9...  \n",
       "9126  POLYGON ((-117.95056 33.94503, -117.95055 33.9...  \n",
       "9127  POLYGON ((-122.34551 37.96355, -122.34550 37.9...  \n",
       "9128  POLYGON ((-118.12345 33.78715, -118.12224 33.7...  \n",
       "\n",
       "[9129 rows x 2 columns]"
      ]
     },
     "execution_count": 44,
     "metadata": {},
     "output_type": "execute_result"
    }
   ],
   "source": [
    "CensusTable"
   ]
  },
  {
   "cell_type": "code",
   "execution_count": 27,
   "id": "df65043d-3ee4-4e98-855b-36ecaaef1573",
   "metadata": {},
   "outputs": [
    {
     "ename": "ValueError",
     "evalue": "You are trying to merge on object and int64 columns for key 'GEOIDFQ'. If you wish to proceed you should use pd.concat",
     "output_type": "error",
     "traceback": [
      "\u001b[0;31m---------------------------------------------------------------------------\u001b[0m",
      "\u001b[0;31mValueError\u001b[0m                                Traceback (most recent call last)",
      "Cell \u001b[0;32mIn[27], line 1\u001b[0m\n\u001b[0;32m----> 1\u001b[0m CensusTable\u001b[38;5;241m.\u001b[39mjoin(other\u001b[38;5;241m=\u001b[39mTargetCensusSubsetter, on\u001b[38;5;241m=\u001b[39m\u001b[38;5;124m'\u001b[39m\u001b[38;5;124mGEOIDFQ\u001b[39m\u001b[38;5;124m'\u001b[39m, how\u001b[38;5;241m=\u001b[39m\u001b[38;5;124m'\u001b[39m\u001b[38;5;124minner\u001b[39m\u001b[38;5;124m'\u001b[39m)\n",
      "File \u001b[0;32m/opt/miniconda3/lib/python3.12/site-packages/pandas/core/frame.py:10744\u001b[0m, in \u001b[0;36mDataFrame.join\u001b[0;34m(self, other, on, how, lsuffix, rsuffix, sort, validate)\u001b[0m\n\u001b[1;32m  10734\u001b[0m     \u001b[38;5;28;01mif\u001b[39;00m how \u001b[38;5;241m==\u001b[39m \u001b[38;5;124m\"\u001b[39m\u001b[38;5;124mcross\u001b[39m\u001b[38;5;124m\"\u001b[39m:\n\u001b[1;32m  10735\u001b[0m         \u001b[38;5;28;01mreturn\u001b[39;00m merge(\n\u001b[1;32m  10736\u001b[0m             \u001b[38;5;28mself\u001b[39m,\n\u001b[1;32m  10737\u001b[0m             other,\n\u001b[0;32m   (...)\u001b[0m\n\u001b[1;32m  10742\u001b[0m             validate\u001b[38;5;241m=\u001b[39mvalidate,\n\u001b[1;32m  10743\u001b[0m         )\n\u001b[0;32m> 10744\u001b[0m     \u001b[38;5;28;01mreturn\u001b[39;00m merge(\n\u001b[1;32m  10745\u001b[0m         \u001b[38;5;28mself\u001b[39m,\n\u001b[1;32m  10746\u001b[0m         other,\n\u001b[1;32m  10747\u001b[0m         left_on\u001b[38;5;241m=\u001b[39mon,\n\u001b[1;32m  10748\u001b[0m         how\u001b[38;5;241m=\u001b[39mhow,\n\u001b[1;32m  10749\u001b[0m         left_index\u001b[38;5;241m=\u001b[39mon \u001b[38;5;129;01mis\u001b[39;00m \u001b[38;5;28;01mNone\u001b[39;00m,\n\u001b[1;32m  10750\u001b[0m         right_index\u001b[38;5;241m=\u001b[39m\u001b[38;5;28;01mTrue\u001b[39;00m,\n\u001b[1;32m  10751\u001b[0m         suffixes\u001b[38;5;241m=\u001b[39m(lsuffix, rsuffix),\n\u001b[1;32m  10752\u001b[0m         sort\u001b[38;5;241m=\u001b[39msort,\n\u001b[1;32m  10753\u001b[0m         validate\u001b[38;5;241m=\u001b[39mvalidate,\n\u001b[1;32m  10754\u001b[0m     )\n\u001b[1;32m  10755\u001b[0m \u001b[38;5;28;01melse\u001b[39;00m:\n\u001b[1;32m  10756\u001b[0m     \u001b[38;5;28;01mif\u001b[39;00m on \u001b[38;5;129;01mis\u001b[39;00m \u001b[38;5;129;01mnot\u001b[39;00m \u001b[38;5;28;01mNone\u001b[39;00m:\n",
      "File \u001b[0;32m/opt/miniconda3/lib/python3.12/site-packages/pandas/core/reshape/merge.py:170\u001b[0m, in \u001b[0;36mmerge\u001b[0;34m(left, right, how, on, left_on, right_on, left_index, right_index, sort, suffixes, copy, indicator, validate)\u001b[0m\n\u001b[1;32m    155\u001b[0m     \u001b[38;5;28;01mreturn\u001b[39;00m _cross_merge(\n\u001b[1;32m    156\u001b[0m         left_df,\n\u001b[1;32m    157\u001b[0m         right_df,\n\u001b[0;32m   (...)\u001b[0m\n\u001b[1;32m    167\u001b[0m         copy\u001b[38;5;241m=\u001b[39mcopy,\n\u001b[1;32m    168\u001b[0m     )\n\u001b[1;32m    169\u001b[0m \u001b[38;5;28;01melse\u001b[39;00m:\n\u001b[0;32m--> 170\u001b[0m     op \u001b[38;5;241m=\u001b[39m _MergeOperation(\n\u001b[1;32m    171\u001b[0m         left_df,\n\u001b[1;32m    172\u001b[0m         right_df,\n\u001b[1;32m    173\u001b[0m         how\u001b[38;5;241m=\u001b[39mhow,\n\u001b[1;32m    174\u001b[0m         on\u001b[38;5;241m=\u001b[39mon,\n\u001b[1;32m    175\u001b[0m         left_on\u001b[38;5;241m=\u001b[39mleft_on,\n\u001b[1;32m    176\u001b[0m         right_on\u001b[38;5;241m=\u001b[39mright_on,\n\u001b[1;32m    177\u001b[0m         left_index\u001b[38;5;241m=\u001b[39mleft_index,\n\u001b[1;32m    178\u001b[0m         right_index\u001b[38;5;241m=\u001b[39mright_index,\n\u001b[1;32m    179\u001b[0m         sort\u001b[38;5;241m=\u001b[39msort,\n\u001b[1;32m    180\u001b[0m         suffixes\u001b[38;5;241m=\u001b[39msuffixes,\n\u001b[1;32m    181\u001b[0m         indicator\u001b[38;5;241m=\u001b[39mindicator,\n\u001b[1;32m    182\u001b[0m         validate\u001b[38;5;241m=\u001b[39mvalidate,\n\u001b[1;32m    183\u001b[0m     )\n\u001b[1;32m    184\u001b[0m     \u001b[38;5;28;01mreturn\u001b[39;00m op\u001b[38;5;241m.\u001b[39mget_result(copy\u001b[38;5;241m=\u001b[39mcopy)\n",
      "File \u001b[0;32m/opt/miniconda3/lib/python3.12/site-packages/pandas/core/reshape/merge.py:807\u001b[0m, in \u001b[0;36m_MergeOperation.__init__\u001b[0;34m(self, left, right, how, on, left_on, right_on, left_index, right_index, sort, suffixes, indicator, validate)\u001b[0m\n\u001b[1;32m    803\u001b[0m \u001b[38;5;28mself\u001b[39m\u001b[38;5;241m.\u001b[39m_validate_tolerance(\u001b[38;5;28mself\u001b[39m\u001b[38;5;241m.\u001b[39mleft_join_keys)\n\u001b[1;32m    805\u001b[0m \u001b[38;5;66;03m# validate the merge keys dtypes. We may need to coerce\u001b[39;00m\n\u001b[1;32m    806\u001b[0m \u001b[38;5;66;03m# to avoid incompatible dtypes\u001b[39;00m\n\u001b[0;32m--> 807\u001b[0m \u001b[38;5;28mself\u001b[39m\u001b[38;5;241m.\u001b[39m_maybe_coerce_merge_keys()\n\u001b[1;32m    809\u001b[0m \u001b[38;5;66;03m# If argument passed to validate,\u001b[39;00m\n\u001b[1;32m    810\u001b[0m \u001b[38;5;66;03m# check if columns specified as unique\u001b[39;00m\n\u001b[1;32m    811\u001b[0m \u001b[38;5;66;03m# are in fact unique.\u001b[39;00m\n\u001b[1;32m    812\u001b[0m \u001b[38;5;28;01mif\u001b[39;00m validate \u001b[38;5;129;01mis\u001b[39;00m \u001b[38;5;129;01mnot\u001b[39;00m \u001b[38;5;28;01mNone\u001b[39;00m:\n",
      "File \u001b[0;32m/opt/miniconda3/lib/python3.12/site-packages/pandas/core/reshape/merge.py:1508\u001b[0m, in \u001b[0;36m_MergeOperation._maybe_coerce_merge_keys\u001b[0;34m(self)\u001b[0m\n\u001b[1;32m   1502\u001b[0m     \u001b[38;5;66;03m# unless we are merging non-string-like with string-like\u001b[39;00m\n\u001b[1;32m   1503\u001b[0m     \u001b[38;5;28;01melif\u001b[39;00m (\n\u001b[1;32m   1504\u001b[0m         inferred_left \u001b[38;5;129;01min\u001b[39;00m string_types \u001b[38;5;129;01mand\u001b[39;00m inferred_right \u001b[38;5;129;01mnot\u001b[39;00m \u001b[38;5;129;01min\u001b[39;00m string_types\n\u001b[1;32m   1505\u001b[0m     ) \u001b[38;5;129;01mor\u001b[39;00m (\n\u001b[1;32m   1506\u001b[0m         inferred_right \u001b[38;5;129;01min\u001b[39;00m string_types \u001b[38;5;129;01mand\u001b[39;00m inferred_left \u001b[38;5;129;01mnot\u001b[39;00m \u001b[38;5;129;01min\u001b[39;00m string_types\n\u001b[1;32m   1507\u001b[0m     ):\n\u001b[0;32m-> 1508\u001b[0m         \u001b[38;5;28;01mraise\u001b[39;00m \u001b[38;5;167;01mValueError\u001b[39;00m(msg)\n\u001b[1;32m   1510\u001b[0m \u001b[38;5;66;03m# datetimelikes must match exactly\u001b[39;00m\n\u001b[1;32m   1511\u001b[0m \u001b[38;5;28;01melif\u001b[39;00m needs_i8_conversion(lk\u001b[38;5;241m.\u001b[39mdtype) \u001b[38;5;129;01mand\u001b[39;00m \u001b[38;5;129;01mnot\u001b[39;00m needs_i8_conversion(rk\u001b[38;5;241m.\u001b[39mdtype):\n",
      "\u001b[0;31mValueError\u001b[0m: You are trying to merge on object and int64 columns for key 'GEOIDFQ'. If you wish to proceed you should use pd.concat"
     ]
    }
   ],
   "source": [
    "CensusTable.join(other=TargetCensusSubsettmer, on='GEOIDFQ', how='inner')"
   ]
  },
  {
   "cell_type": "code",
   "execution_count": null,
   "id": "c45ed43d-ece8-4aa3-b86c-961866c1f32d",
   "metadata": {},
   "outputs": [],
   "source": []
  }
 ],
 "metadata": {
  "kernelspec": {
   "display_name": "Python 3 (ipykernel)",
   "language": "python",
   "name": "python3"
  },
  "language_info": {
   "codemirror_mode": {
    "name": "ipython",
    "version": 3
   },
   "file_extension": ".py",
   "mimetype": "text/x-python",
   "name": "python",
   "nbconvert_exporter": "python",
   "pygments_lexer": "ipython3",
   "version": "3.12.2"
  }
 },
 "nbformat": 4,
 "nbformat_minor": 5
}
