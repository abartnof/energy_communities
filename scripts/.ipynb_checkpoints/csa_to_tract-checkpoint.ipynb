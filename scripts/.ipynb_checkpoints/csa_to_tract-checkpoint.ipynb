{
 "cells": [
  {
   "cell_type": "code",
   "execution_count": 11,
   "id": "fbf7f480-35c5-461a-9a84-4f82f0eb3590",
   "metadata": {},
   "outputs": [],
   "source": [
    "import pandas as pd\n",
    "import geopandas as gpd\n",
    "import numpy as np\n",
    "import matplotlib.pyplot as plt\n",
    "import os\n",
    "from tqdm.notebook import tqdm\n",
    "target_epsg = 4269  # What the CSA files use natively"
   ]
  },
  {
   "cell_type": "code",
   "execution_count": 3,
   "id": "602666ad-4cac-4280-a3f5-dc5f865bec5a",
   "metadata": {},
   "outputs": [],
   "source": [
    "# fn_csa = '/Volumes/Extreme SSD/energy_communities/raw_input/cb_2023_us_all_20m/cb_2023_us_csa_20m.zip'\n",
    "fn_csa = '/Volumes/Extreme SSD/energy_communities/raw_input/cb_2023_us_all_20m/cb_2023_us_csa_20m.zip'\n",
    "fn_out_csa_to_tract = '/Volumes/Extreme SSD/energy_communities/clean_input/geography/csa_to_tract.parquet'"
   ]
  },
  {
   "cell_type": "code",
   "execution_count": 12,
   "id": "2d82b685-dd0f-43e3-8f07-b10c20101a25",
   "metadata": {},
   "outputs": [
    {
     "data": {
      "text/html": [
       "<div>\n",
       "<style scoped>\n",
       "    .dataframe tbody tr th:only-of-type {\n",
       "        vertical-align: middle;\n",
       "    }\n",
       "\n",
       "    .dataframe tbody tr th {\n",
       "        vertical-align: top;\n",
       "    }\n",
       "\n",
       "    .dataframe thead th {\n",
       "        text-align: right;\n",
       "    }\n",
       "</style>\n",
       "<table border=\"1\" class=\"dataframe\">\n",
       "  <thead>\n",
       "    <tr style=\"text-align: right;\">\n",
       "      <th></th>\n",
       "      <th>csa_fips</th>\n",
       "      <th>csa_geoid</th>\n",
       "      <th>csa_geoidfq</th>\n",
       "      <th>csa_name</th>\n",
       "      <th>geometry</th>\n",
       "    </tr>\n",
       "  </thead>\n",
       "  <tbody>\n",
       "    <tr>\n",
       "      <th>0</th>\n",
       "      <td>150</td>\n",
       "      <td>150</td>\n",
       "      <td>330M700US150</td>\n",
       "      <td>Bowling Green-Glasgow-Franklin, KY</td>\n",
       "      <td>POLYGON ((-86.89407 37.08835, -86.92427 37.144...</td>\n",
       "    </tr>\n",
       "    <tr>\n",
       "      <th>1</th>\n",
       "      <td>444</td>\n",
       "      <td>444</td>\n",
       "      <td>330M700US444</td>\n",
       "      <td>Pueblo-Cañon City, CO</td>\n",
       "      <td>POLYGON ((-106.01075 38.44657, -105.90872 38.5...</td>\n",
       "    </tr>\n",
       "    <tr>\n",
       "      <th>2</th>\n",
       "      <td>448</td>\n",
       "      <td>448</td>\n",
       "      <td>330M700US448</td>\n",
       "      <td>Quincy-Hannibal, IL-MO</td>\n",
       "      <td>POLYGON ((-91.94724 40.21380, -91.95081 40.257...</td>\n",
       "    </tr>\n",
       "    <tr>\n",
       "      <th>3</th>\n",
       "      <td>466</td>\n",
       "      <td>466</td>\n",
       "      <td>330M700US466</td>\n",
       "      <td>Rockford-Freeport-Rochelle, IL</td>\n",
       "      <td>POLYGON ((-89.92647 42.50579, -89.83759 42.504...</td>\n",
       "    </tr>\n",
       "    <tr>\n",
       "      <th>4</th>\n",
       "      <td>242</td>\n",
       "      <td>242</td>\n",
       "      <td>330M700US242</td>\n",
       "      <td>Fairmont-Clarksburg, WV</td>\n",
       "      <td>POLYGON ((-80.88874 39.29430, -80.71332 39.430...</td>\n",
       "    </tr>\n",
       "  </tbody>\n",
       "</table>\n",
       "</div>"
      ],
      "text/plain": [
       "  csa_fips csa_geoid   csa_geoidfq                            csa_name  \\\n",
       "0      150       150  330M700US150  Bowling Green-Glasgow-Franklin, KY   \n",
       "1      444       444  330M700US444               Pueblo-Cañon City, CO   \n",
       "2      448       448  330M700US448              Quincy-Hannibal, IL-MO   \n",
       "3      466       466  330M700US466      Rockford-Freeport-Rochelle, IL   \n",
       "4      242       242  330M700US242             Fairmont-Clarksburg, WV   \n",
       "\n",
       "                                            geometry  \n",
       "0  POLYGON ((-86.89407 37.08835, -86.92427 37.144...  \n",
       "1  POLYGON ((-106.01075 38.44657, -105.90872 38.5...  \n",
       "2  POLYGON ((-91.94724 40.21380, -91.95081 40.257...  \n",
       "3  POLYGON ((-89.92647 42.50579, -89.83759 42.504...  \n",
       "4  POLYGON ((-80.88874 39.29430, -80.71332 39.430...  "
      ]
     },
     "execution_count": 12,
     "metadata": {},
     "output_type": "execute_result"
    }
   ],
   "source": [
    "CsaRaw = gpd.read_file(fn_csa)\n",
    "Csa = CsaRaw.rename(columns={'CSAFP':'csa_fips', 'GEOIDFQ':'csa_geoidfq', 'GEOID':'csa_geoid', 'NAME':'csa_name'})\n",
    "Csa = Csa[['csa_fips', 'csa_geoid', 'csa_geoidfq', 'csa_name', 'geometry']]\n",
    "Csa = Csa.set_geometry('geometry')\n",
    "Csa = Csa.to_crs(epsg=target_epsg)\n",
    "Csa.head()"
   ]
  },
  {
   "cell_type": "code",
   "execution_count": 13,
   "id": "49c700a6-6340-4525-8c43-59dd13b532e1",
   "metadata": {},
   "outputs": [
    {
     "name": "stdout",
     "output_type": "stream",
     "text": [
      "['/Volumes/Extreme SSD/energy_communities/raw_input/census_tract/2023/tl_2023_04_tract', '/Volumes/Extreme SSD/energy_communities/raw_input/census_tract/2023/tl_2023_02_tract', '/Volumes/Extreme SSD/energy_communities/raw_input/census_tract/2023/tl_2023_01_tract']\n"
     ]
    }
   ],
   "source": [
    "census_dirs = '/Volumes/Extreme SSD/energy_communities/raw_input/census_tract/2023'\n",
    "list_of_census_files = [ f.path for f in os.scandir(census_dirs) if f.is_dir() ]\n",
    "print(list_of_census_files[:3])"
   ]
  },
  {
   "cell_type": "code",
   "execution_count": 14,
   "id": "a032c9cf-8120-4eb2-bf9b-6d8733d05402",
   "metadata": {},
   "outputs": [
    {
     "data": {
      "application/vnd.jupyter.widget-view+json": {
       "model_id": "d0f78e3afcfd4c53a94f9e35ded92ea7",
       "version_major": 2,
       "version_minor": 0
      },
      "text/plain": [
       "  0%|          | 0/56 [00:00<?, ?it/s]"
      ]
     },
     "metadata": {},
     "output_type": "display_data"
    }
   ],
   "source": [
    "intersection_list = []\n",
    "\n",
    "for census_subfolder in tqdm(list_of_census_files):\n",
    "    CensusObservationRaw = gpd.read_file(census_subfolder)\n",
    "    CensusObservation = CensusObservationRaw.rename(columns={'GEOID':'census_geoid', 'GEOIDFQ':'census_geoidfq', 'geometry':'census_geometry'})\n",
    "    CensusObservation = CensusObservation[['census_geoid', 'census_geoidfq', 'census_geometry']]\n",
    "    CensusObservation = CensusObservation.set_geometry('census_geometry')\n",
    "    CensusObservation = CensusObservation.to_crs(epsg=target_epsg)\n",
    "\n",
    "    Intersection = gpd.sjoin(Csa, CensusObservation, how='inner', predicate='intersects')\n",
    "    IntersectionIdOnly = Intersection[['csa_fips', 'csa_geoid', 'csa_geoidfq', 'csa_name', 'census_geoid', 'census_geoidfq']]\n",
    "    \n",
    "    if len(Intersection) > 0:\n",
    "        intersection_list.append(IntersectionIdOnly)\n",
    "    else:\n",
    "        pass"
   ]
  },
  {
   "cell_type": "code",
   "execution_count": 16,
   "id": "55dd7c29-2d77-42b6-b60e-84d14f5c7dac",
   "metadata": {},
   "outputs": [
    {
     "data": {
      "text/html": [
       "<div>\n",
       "<style scoped>\n",
       "    .dataframe tbody tr th:only-of-type {\n",
       "        vertical-align: middle;\n",
       "    }\n",
       "\n",
       "    .dataframe tbody tr th {\n",
       "        vertical-align: top;\n",
       "    }\n",
       "\n",
       "    .dataframe thead th {\n",
       "        text-align: right;\n",
       "    }\n",
       "</style>\n",
       "<table border=\"1\" class=\"dataframe\">\n",
       "  <thead>\n",
       "    <tr style=\"text-align: right;\">\n",
       "      <th></th>\n",
       "      <th>csa_fips</th>\n",
       "      <th>csa_geoid</th>\n",
       "      <th>csa_geoidfq</th>\n",
       "      <th>csa_name</th>\n",
       "      <th>census_geoid</th>\n",
       "      <th>census_geoidfq</th>\n",
       "    </tr>\n",
       "  </thead>\n",
       "  <tbody>\n",
       "    <tr>\n",
       "      <th>0</th>\n",
       "      <td>536</td>\n",
       "      <td>536</td>\n",
       "      <td>330M700US536</td>\n",
       "      <td>Tucson-Nogales, AZ</td>\n",
       "      <td>04003002100</td>\n",
       "      <td>1400000US04003002100</td>\n",
       "    </tr>\n",
       "    <tr>\n",
       "      <th>1</th>\n",
       "      <td>536</td>\n",
       "      <td>536</td>\n",
       "      <td>330M700US536</td>\n",
       "      <td>Tucson-Nogales, AZ</td>\n",
       "      <td>04023966000</td>\n",
       "      <td>1400000US04023966000</td>\n",
       "    </tr>\n",
       "    <tr>\n",
       "      <th>2</th>\n",
       "      <td>536</td>\n",
       "      <td>536</td>\n",
       "      <td>330M700US536</td>\n",
       "      <td>Tucson-Nogales, AZ</td>\n",
       "      <td>04003001302</td>\n",
       "      <td>1400000US04003001302</td>\n",
       "    </tr>\n",
       "    <tr>\n",
       "      <th>3</th>\n",
       "      <td>536</td>\n",
       "      <td>536</td>\n",
       "      <td>330M700US536</td>\n",
       "      <td>Tucson-Nogales, AZ</td>\n",
       "      <td>04023966302</td>\n",
       "      <td>1400000US04023966302</td>\n",
       "    </tr>\n",
       "    <tr>\n",
       "      <th>4</th>\n",
       "      <td>536</td>\n",
       "      <td>536</td>\n",
       "      <td>330M700US536</td>\n",
       "      <td>Tucson-Nogales, AZ</td>\n",
       "      <td>04023966301</td>\n",
       "      <td>1400000US04023966301</td>\n",
       "    </tr>\n",
       "  </tbody>\n",
       "</table>\n",
       "</div>"
      ],
      "text/plain": [
       "  csa_fips csa_geoid   csa_geoidfq            csa_name census_geoid  \\\n",
       "0      536       536  330M700US536  Tucson-Nogales, AZ  04003002100   \n",
       "1      536       536  330M700US536  Tucson-Nogales, AZ  04023966000   \n",
       "2      536       536  330M700US536  Tucson-Nogales, AZ  04003001302   \n",
       "3      536       536  330M700US536  Tucson-Nogales, AZ  04023966302   \n",
       "4      536       536  330M700US536  Tucson-Nogales, AZ  04023966301   \n",
       "\n",
       "         census_geoidfq  \n",
       "0  1400000US04003002100  \n",
       "1  1400000US04023966000  \n",
       "2  1400000US04003001302  \n",
       "3  1400000US04023966302  \n",
       "4  1400000US04023966301  "
      ]
     },
     "execution_count": 16,
     "metadata": {},
     "output_type": "execute_result"
    }
   ],
   "source": [
    "Concat = pd.concat(intersection_list, axis=0, ignore_index=True)\n",
    "Concat.head()"
   ]
  },
  {
   "cell_type": "code",
   "execution_count": 17,
   "id": "ead00c65-9d61-47be-9859-a327a3e1b9d6",
   "metadata": {},
   "outputs": [
    {
     "data": {
      "text/plain": [
       "True"
      ]
     },
     "execution_count": 17,
     "metadata": {},
     "output_type": "execute_result"
    }
   ],
   "source": [
    "Concat.duplicated().sum() == 0"
   ]
  },
  {
   "cell_type": "code",
   "execution_count": 18,
   "id": "9ab60715-e559-41fb-aa19-bb436f097959",
   "metadata": {},
   "outputs": [],
   "source": [
    "Concat.to_parquet(fn_out_csa_to_tract)"
   ]
  }
 ],
 "metadata": {
  "kernelspec": {
   "display_name": "Python 3 (ipykernel)",
   "language": "python",
   "name": "python3"
  },
  "language_info": {
   "codemirror_mode": {
    "name": "ipython",
    "version": 3
   },
   "file_extension": ".py",
   "mimetype": "text/x-python",
   "name": "python",
   "nbconvert_exporter": "python",
   "pygments_lexer": "ipython3",
   "version": "3.12.2"
  }
 },
 "nbformat": 4,
 "nbformat_minor": 5
}
