{
 "cells": [
  {
   "cell_type": "code",
   "execution_count": 13,
   "id": "faaae611-7546-4e8a-8b25-a2b841f6ef63",
   "metadata": {},
   "outputs": [],
   "source": [
    "import pandas as pd\n",
    "import geopandas as gpd\n",
    "import numpy as np\n",
    "import matplotlib.pyplot as plt\n",
    "import os\n",
    "from tqdm.notebook import tqdm\n",
    "target_epsg = 4269  # What the CBSA files use natively"
   ]
  },
  {
   "cell_type": "code",
   "execution_count": 39,
   "id": "e01ed4d5-82fe-4fd1-82ff-9791279f7ed0",
   "metadata": {},
   "outputs": [],
   "source": [
    "fn_cbsa = '/Volumes/Extreme SSD/energy_communities/raw_input/cb_2023_us_all_20m/cb_2023_us_cbsa_20m.zip'\n",
    "fn_csa = '/Volumes/Extreme SSD/energy_communities/raw_input/cb_2023_us_all_20m/cb_2023_us_csa_20m.zip'\n",
    "fn_out_cbsa_to_tract = '/Volumes/Extreme SSD/energy_communities/clean_input/geography/cbsa_to_tract.parquet'"
   ]
  },
  {
   "cell_type": "code",
   "execution_count": 20,
   "id": "09cf9030-b088-4f8a-9789-ac54355bdcc0",
   "metadata": {},
   "outputs": [
    {
     "data": {
      "text/html": [
       "<div>\n",
       "<style scoped>\n",
       "    .dataframe tbody tr th:only-of-type {\n",
       "        vertical-align: middle;\n",
       "    }\n",
       "\n",
       "    .dataframe tbody tr th {\n",
       "        vertical-align: top;\n",
       "    }\n",
       "\n",
       "    .dataframe thead th {\n",
       "        text-align: right;\n",
       "    }\n",
       "</style>\n",
       "<table border=\"1\" class=\"dataframe\">\n",
       "  <thead>\n",
       "    <tr style=\"text-align: right;\">\n",
       "      <th></th>\n",
       "      <th>cbsa_fips</th>\n",
       "      <th>cbsa_geoid</th>\n",
       "      <th>cbsa_geoidfq</th>\n",
       "      <th>cbsa_name</th>\n",
       "      <th>geometry</th>\n",
       "    </tr>\n",
       "  </thead>\n",
       "  <tbody>\n",
       "    <tr>\n",
       "      <th>0</th>\n",
       "      <td>29860</td>\n",
       "      <td>29860</td>\n",
       "      <td>310M700US29860</td>\n",
       "      <td>Laurel, MS</td>\n",
       "      <td>POLYGON ((-89.40123 31.79686, -89.31656 31.802...</td>\n",
       "    </tr>\n",
       "    <tr>\n",
       "      <th>1</th>\n",
       "      <td>22840</td>\n",
       "      <td>22840</td>\n",
       "      <td>310M700US22840</td>\n",
       "      <td>Fort Payne, AL</td>\n",
       "      <td>POLYGON ((-86.11889 34.40384, -86.05771 34.475...</td>\n",
       "    </tr>\n",
       "    <tr>\n",
       "      <th>2</th>\n",
       "      <td>47920</td>\n",
       "      <td>47920</td>\n",
       "      <td>310M700US47920</td>\n",
       "      <td>Washington Court House, OH</td>\n",
       "      <td>POLYGON ((-83.65333 39.71688, -83.25244 39.695...</td>\n",
       "    </tr>\n",
       "    <tr>\n",
       "      <th>3</th>\n",
       "      <td>23060</td>\n",
       "      <td>23060</td>\n",
       "      <td>310M700US23060</td>\n",
       "      <td>Fort Wayne, IN</td>\n",
       "      <td>POLYGON ((-85.68657 41.17838, -85.65272 41.178...</td>\n",
       "    </tr>\n",
       "    <tr>\n",
       "      <th>4</th>\n",
       "      <td>16340</td>\n",
       "      <td>16340</td>\n",
       "      <td>310M700US16340</td>\n",
       "      <td>Cedartown, GA</td>\n",
       "      <td>POLYGON ((-85.42107 34.08081, -85.25807 34.079...</td>\n",
       "    </tr>\n",
       "  </tbody>\n",
       "</table>\n",
       "</div>"
      ],
      "text/plain": [
       "  cbsa_fips cbsa_geoid    cbsa_geoidfq                   cbsa_name  \\\n",
       "0     29860      29860  310M700US29860                  Laurel, MS   \n",
       "1     22840      22840  310M700US22840              Fort Payne, AL   \n",
       "2     47920      47920  310M700US47920  Washington Court House, OH   \n",
       "3     23060      23060  310M700US23060              Fort Wayne, IN   \n",
       "4     16340      16340  310M700US16340               Cedartown, GA   \n",
       "\n",
       "                                            geometry  \n",
       "0  POLYGON ((-89.40123 31.79686, -89.31656 31.802...  \n",
       "1  POLYGON ((-86.11889 34.40384, -86.05771 34.475...  \n",
       "2  POLYGON ((-83.65333 39.71688, -83.25244 39.695...  \n",
       "3  POLYGON ((-85.68657 41.17838, -85.65272 41.178...  \n",
       "4  POLYGON ((-85.42107 34.08081, -85.25807 34.079...  "
      ]
     },
     "execution_count": 20,
     "metadata": {},
     "output_type": "execute_result"
    }
   ],
   "source": [
    "CbsaRaw = gpd.read_file(fn_cbsa)\n",
    "Cbsa = CbsaRaw.rename(columns={'CBSAFP':'cbsa_fips', 'GEOIDFQ':'cbsa_geoidfq', 'GEOID':'cbsa_geoid', 'NAME':'cbsa_name'})\n",
    "Cbsa = Cbsa[['cbsa_fips', 'cbsa_geoid', 'cbsa_geoidfq', 'cbsa_name', 'geometry']]\n",
    "Cbsa = Cbsa.set_geometry('geometry')\n",
    "Cbsa = Cbsa.to_crs(epsg=target_epsg)\n",
    "Cbsa.head()"
   ]
  },
  {
   "cell_type": "code",
   "execution_count": 21,
   "id": "11853027-3d29-42bd-a295-db91742967b4",
   "metadata": {},
   "outputs": [
    {
     "name": "stdout",
     "output_type": "stream",
     "text": [
      "['/Volumes/Extreme SSD/energy_communities/raw_input/census_tract/2023/tl_2023_04_tract', '/Volumes/Extreme SSD/energy_communities/raw_input/census_tract/2023/tl_2023_02_tract', '/Volumes/Extreme SSD/energy_communities/raw_input/census_tract/2023/tl_2023_01_tract']\n"
     ]
    }
   ],
   "source": [
    "census_dirs = '/Volumes/Extreme SSD/energy_communities/raw_input/census_tract/2023'\n",
    "list_of_census_files = [ f.path for f in os.scandir(census_dirs) if f.is_dir() ]\n",
    "print(list_of_census_files[:3])"
   ]
  },
  {
   "cell_type": "code",
   "execution_count": 33,
   "id": "83b8bc2d-ea19-4710-8c60-548166e11c00",
   "metadata": {},
   "outputs": [
    {
     "data": {
      "application/vnd.jupyter.widget-view+json": {
       "model_id": "19106725dbb94f928a9a851299fc7b06",
       "version_major": 2,
       "version_minor": 0
      },
      "text/plain": [
       "  0%|          | 0/56 [00:00<?, ?it/s]"
      ]
     },
     "metadata": {},
     "output_type": "display_data"
    }
   ],
   "source": [
    "intersection_list = []\n",
    "\n",
    "for census_subfolder in tqdm(list_of_census_files):\n",
    "    CensusObservationRaw = gpd.read_file(census_subfolder)\n",
    "    CensusObservation = CensusObservationRaw.rename(columns={'GEOID':'census_geoid', 'GEOIDFQ':'census_geoidfq', 'geometry':'census_geometry'})\n",
    "    CensusObservation = CensusObservation[['census_geoid', 'census_geoidfq', 'census_geometry']]\n",
    "    CensusObservation = CensusObservation.set_geometry('census_geometry')\n",
    "    CensusObservation = CensusObservation.to_crs(epsg=target_epsg)\n",
    "\n",
    "    Intersection = gpd.sjoin(Cbsa, CensusObservation, how='inner', predicate='intersects')\n",
    "    IntersectionIdOnly = Intersection[['cbsa_fips', 'cbsa_geoid', 'cbsa_geoidfq', 'cbsa_name', 'census_geoid', 'census_geoidfq']]\n",
    "    \n",
    "    if len(Intersection) > 0:\n",
    "        intersection_list.append(IntersectionIdOnly)\n",
    "    else:\n",
    "        pass"
   ]
  },
  {
   "cell_type": "code",
   "execution_count": 34,
   "id": "a65945a6-c813-4c9e-a577-b8e3095548da",
   "metadata": {},
   "outputs": [
    {
     "data": {
      "text/html": [
       "<div>\n",
       "<style scoped>\n",
       "    .dataframe tbody tr th:only-of-type {\n",
       "        vertical-align: middle;\n",
       "    }\n",
       "\n",
       "    .dataframe tbody tr th {\n",
       "        vertical-align: top;\n",
       "    }\n",
       "\n",
       "    .dataframe thead th {\n",
       "        text-align: right;\n",
       "    }\n",
       "</style>\n",
       "<table border=\"1\" class=\"dataframe\">\n",
       "  <thead>\n",
       "    <tr style=\"text-align: right;\">\n",
       "      <th></th>\n",
       "      <th>cbsa_fips</th>\n",
       "      <th>cbsa_geoid</th>\n",
       "      <th>cbsa_geoidfq</th>\n",
       "      <th>cbsa_name</th>\n",
       "      <th>census_geoid</th>\n",
       "      <th>census_geoidfq</th>\n",
       "    </tr>\n",
       "  </thead>\n",
       "  <tbody>\n",
       "    <tr>\n",
       "      <th>0</th>\n",
       "      <td>41100</td>\n",
       "      <td>41100</td>\n",
       "      <td>310M700US41100</td>\n",
       "      <td>St. George, UT</td>\n",
       "      <td>04015950101</td>\n",
       "      <td>1400000US04015950101</td>\n",
       "    </tr>\n",
       "    <tr>\n",
       "      <th>1</th>\n",
       "      <td>41100</td>\n",
       "      <td>41100</td>\n",
       "      <td>310M700US41100</td>\n",
       "      <td>St. George, UT</td>\n",
       "      <td>04015950103</td>\n",
       "      <td>1400000US04015950103</td>\n",
       "    </tr>\n",
       "    <tr>\n",
       "      <th>2</th>\n",
       "      <td>49740</td>\n",
       "      <td>49740</td>\n",
       "      <td>310M700US49740</td>\n",
       "      <td>Yuma, AZ</td>\n",
       "      <td>04027980005</td>\n",
       "      <td>1400000US04027980005</td>\n",
       "    </tr>\n",
       "    <tr>\n",
       "      <th>3</th>\n",
       "      <td>49740</td>\n",
       "      <td>49740</td>\n",
       "      <td>310M700US49740</td>\n",
       "      <td>Yuma, AZ</td>\n",
       "      <td>04027011407</td>\n",
       "      <td>1400000US04027011407</td>\n",
       "    </tr>\n",
       "    <tr>\n",
       "      <th>4</th>\n",
       "      <td>49740</td>\n",
       "      <td>49740</td>\n",
       "      <td>310M700US49740</td>\n",
       "      <td>Yuma, AZ</td>\n",
       "      <td>04027011405</td>\n",
       "      <td>1400000US04027011405</td>\n",
       "    </tr>\n",
       "    <tr>\n",
       "      <th>...</th>\n",
       "      <td>...</td>\n",
       "      <td>...</td>\n",
       "      <td>...</td>\n",
       "      <td>...</td>\n",
       "      <td>...</td>\n",
       "      <td>...</td>\n",
       "    </tr>\n",
       "    <tr>\n",
       "      <th>94060</th>\n",
       "      <td>38660</td>\n",
       "      <td>38660</td>\n",
       "      <td>310M700US38660</td>\n",
       "      <td>Ponce, PR</td>\n",
       "      <td>72107954901</td>\n",
       "      <td>1400000US72107954901</td>\n",
       "    </tr>\n",
       "    <tr>\n",
       "      <th>94061</th>\n",
       "      <td>38660</td>\n",
       "      <td>38660</td>\n",
       "      <td>310M700US38660</td>\n",
       "      <td>Ponce, PR</td>\n",
       "      <td>72001956500</td>\n",
       "      <td>1400000US72001956500</td>\n",
       "    </tr>\n",
       "    <tr>\n",
       "      <th>94062</th>\n",
       "      <td>38660</td>\n",
       "      <td>38660</td>\n",
       "      <td>310M700US38660</td>\n",
       "      <td>Ponce, PR</td>\n",
       "      <td>72093960100</td>\n",
       "      <td>1400000US72093960100</td>\n",
       "    </tr>\n",
       "    <tr>\n",
       "      <th>94063</th>\n",
       "      <td>38660</td>\n",
       "      <td>38660</td>\n",
       "      <td>310M700US38660</td>\n",
       "      <td>Ponce, PR</td>\n",
       "      <td>72001956400</td>\n",
       "      <td>1400000US72001956400</td>\n",
       "    </tr>\n",
       "    <tr>\n",
       "      <th>94064</th>\n",
       "      <td>38660</td>\n",
       "      <td>38660</td>\n",
       "      <td>310M700US38660</td>\n",
       "      <td>Ponce, PR</td>\n",
       "      <td>72081958400</td>\n",
       "      <td>1400000US72081958400</td>\n",
       "    </tr>\n",
       "  </tbody>\n",
       "</table>\n",
       "<p>94065 rows × 6 columns</p>\n",
       "</div>"
      ],
      "text/plain": [
       "      cbsa_fips cbsa_geoid    cbsa_geoidfq       cbsa_name census_geoid  \\\n",
       "0         41100      41100  310M700US41100  St. George, UT  04015950101   \n",
       "1         41100      41100  310M700US41100  St. George, UT  04015950103   \n",
       "2         49740      49740  310M700US49740        Yuma, AZ  04027980005   \n",
       "3         49740      49740  310M700US49740        Yuma, AZ  04027011407   \n",
       "4         49740      49740  310M700US49740        Yuma, AZ  04027011405   \n",
       "...         ...        ...             ...             ...          ...   \n",
       "94060     38660      38660  310M700US38660       Ponce, PR  72107954901   \n",
       "94061     38660      38660  310M700US38660       Ponce, PR  72001956500   \n",
       "94062     38660      38660  310M700US38660       Ponce, PR  72093960100   \n",
       "94063     38660      38660  310M700US38660       Ponce, PR  72001956400   \n",
       "94064     38660      38660  310M700US38660       Ponce, PR  72081958400   \n",
       "\n",
       "             census_geoidfq  \n",
       "0      1400000US04015950101  \n",
       "1      1400000US04015950103  \n",
       "2      1400000US04027980005  \n",
       "3      1400000US04027011407  \n",
       "4      1400000US04027011405  \n",
       "...                     ...  \n",
       "94060  1400000US72107954901  \n",
       "94061  1400000US72001956500  \n",
       "94062  1400000US72093960100  \n",
       "94063  1400000US72001956400  \n",
       "94064  1400000US72081958400  \n",
       "\n",
       "[94065 rows x 6 columns]"
      ]
     },
     "execution_count": 34,
     "metadata": {},
     "output_type": "execute_result"
    }
   ],
   "source": [
    "Concat = pd.concat(intersection_list, axis=0, ignore_index=True)\n",
    "Concat"
   ]
  },
  {
   "cell_type": "code",
   "execution_count": 38,
   "id": "5ed75007-3582-4018-adbe-9de2758637cc",
   "metadata": {},
   "outputs": [
    {
     "data": {
      "text/plain": [
       "True"
      ]
     },
     "execution_count": 38,
     "metadata": {},
     "output_type": "execute_result"
    }
   ],
   "source": [
    "Concat.duplicated().sum() == 0"
   ]
  },
  {
   "cell_type": "code",
   "execution_count": 40,
   "id": "d8c6b256-83dc-4082-8bf1-e9a7438b499c",
   "metadata": {},
   "outputs": [],
   "source": [
    "Concat.to_parquet(fn_out_cbsa_to_tract)"
   ]
  }
 ],
 "metadata": {
  "kernelspec": {
   "display_name": "Python 3 (ipykernel)",
   "language": "python",
   "name": "python3"
  },
  "language_info": {
   "codemirror_mode": {
    "name": "ipython",
    "version": 3
   },
   "file_extension": ".py",
   "mimetype": "text/x-python",
   "name": "python",
   "nbconvert_exporter": "python",
   "pygments_lexer": "ipython3",
   "version": "3.12.2"
  }
 },
 "nbformat": 4,
 "nbformat_minor": 5
}
